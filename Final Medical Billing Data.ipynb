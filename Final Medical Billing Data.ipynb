{
 "cells": [
  {
   "cell_type": "code",
   "execution_count": 59,
   "id": "4ed42299-0caa-4baa-b395-6b5f3a5004cc",
   "metadata": {},
   "outputs": [],
   "source": [
    "import pandas as pd"
   ]
  },
  {
   "cell_type": "code",
   "execution_count": 61,
   "id": "a5d95259-3d2e-4326-a276-7b296e49c77f",
   "metadata": {},
   "outputs": [],
   "source": [
    "df = pd.read_excel(\"medical billing data2.xlsx\")"
   ]
  },
  {
   "cell_type": "code",
   "execution_count": 63,
   "id": "0b644916-9f89-4ac9-aa19-13c5826156c2",
   "metadata": {},
   "outputs": [],
   "source": [
    "# Inserts column with the following formula =(J-K-L)*2\n",
    "df['Results'] = (df['PALLOW'] - df['DED'] - df['COPAY']) * 2"
   ]
  },
  {
   "cell_type": "code",
   "execution_count": 65,
   "id": "b2ec5902-dbdd-4faf-afbb-c0c297bdcf4d",
   "metadata": {},
   "outputs": [],
   "source": [
    "# Performs the rounding operation on column 'N' and store it in a new column 'Rounded'\n",
    "df['Rounded'] = df['Results'].round(0)"
   ]
  },
  {
   "cell_type": "code",
   "execution_count": 67,
   "id": "d2e56748-fb37-4ce3-a095-df25e04169c9",
   "metadata": {},
   "outputs": [],
   "source": [
    "# Add a column for boolean expression to see if Rounded column is greated than COINS column\n",
    "df['O > M'] = df['Rounded'] > df['COINS']"
   ]
  },
  {
   "cell_type": "code",
   "execution_count": 69,
   "id": "37e0ad8d-9368-4367-b616-f7b8e84980b9",
   "metadata": {},
   "outputs": [],
   "source": [
    "# Saves the excel file for review\n",
    "df.to_excel('medical billing data2.xlsx', index=False)"
   ]
  },
  {
   "cell_type": "code",
   "execution_count": null,
   "id": "3af91c53-6274-40dc-b622-6e002c73b5f9",
   "metadata": {},
   "outputs": [],
   "source": []
  }
 ],
 "metadata": {
  "kernelspec": {
   "display_name": "Python 3 (ipykernel)",
   "language": "python",
   "name": "python3"
  },
  "language_info": {
   "codemirror_mode": {
    "name": "ipython",
    "version": 3
   },
   "file_extension": ".py",
   "mimetype": "text/x-python",
   "name": "python",
   "nbconvert_exporter": "python",
   "pygments_lexer": "ipython3",
   "version": "3.11.7"
  }
 },
 "nbformat": 4,
 "nbformat_minor": 5
}
