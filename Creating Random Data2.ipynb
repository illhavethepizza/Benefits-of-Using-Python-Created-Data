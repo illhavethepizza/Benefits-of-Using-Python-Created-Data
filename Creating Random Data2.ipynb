{
 "cells": [
  {
   "cell_type": "code",
   "execution_count": 140,
   "id": "7b88125d-255c-48e1-ac6e-e08cbcb9cbb5",
   "metadata": {},
   "outputs": [],
   "source": [
    "# CREATING RANDOM SAMPLE DATASET USING NOTHING BUT PYTHON"
   ]
  },
  {
   "cell_type": "code",
   "execution_count": 201,
   "id": "9ae89b4f-eaf1-49ff-b05e-4e8ff192e683",
   "metadata": {},
   "outputs": [],
   "source": [
    "from openpyxl import Workbook\n",
    "import random\n",
    "from faker import Faker\n",
    "\n",
    "# Initialize Faker for generating random data\n",
    "fake = Faker()"
   ]
  },
  {
   "cell_type": "code",
   "execution_count": 203,
   "id": "9b5f8f12-819d-4116-a2b4-8fca011e52ae",
   "metadata": {},
   "outputs": [],
   "source": [
    "# Creates a new workbook and select the active worksheet\n",
    "wb = Workbook()\n",
    "ws = wb.active"
   ]
  },
  {
   "cell_type": "code",
   "execution_count": 205,
   "id": "eaf44552-d07b-41c5-8e70-b5b64e6f71fd",
   "metadata": {},
   "outputs": [],
   "source": [
    "# Creates column names\n",
    "columns = ['BP', 'CL', 'SERV', 'MEM', 'AGE', 'GENDER', \n",
    "           'DIAG DESC', 'COMP DESCRIPTION', 'BILLED', 'PALLOW', \n",
    "           'DED', 'COPAY', 'COINS']"
   ]
  },
  {
   "cell_type": "code",
   "execution_count": 207,
   "id": "2b785489-5c2f-4ec1-a1a7-3c13216414d4",
   "metadata": {},
   "outputs": [],
   "source": [
    "# Add the column names to the first row\n",
    "ws.append(columns)"
   ]
  },
  {
   "cell_type": "code",
   "execution_count": 209,
   "id": "2b8ef1b9-4a4f-4e20-9356-ce7bebb6cb21",
   "metadata": {},
   "outputs": [],
   "source": [
    "# Generate random data for each column\n",
    "def generate_random_row():\n",
    "    return [\n",
    "        random.randint(100, 999),          # BP\n",
    "        f'CL{random.randint(1000, 9999)}', # CL#\n",
    "        f'SERV{random.randint(100, 999)}', # SERV#\n",
    "        f'MEM{random.randint(1000, 9999)}',# MEM#\n",
    "        random.randint(18, 90),            # AGE\n",
    "        random.choice(['M', 'F']),         # GENDER\n",
    "        fake.sentence(nb_words=5),         # DIAG_DESC\n",
    "        fake.sentence(nb_words=5),         # COMP_DESCRIPTION\n",
    "        round(random.uniform(500, 40000), 2), # BILLED\n",
    "        round(random.uniform(0, 30000), 2),  # PALLOW\n",
    "        round(random.uniform(0, 20000), 2),   # DED\n",
    "        round(random.uniform(0, 40), 2),    # COPAY\n",
    "        round(random.uniform(0, 10000), 2)     # COINS\n",
    "    ]\n",
    "\n",
    "\n",
    "#    generate_random_row() Function: Generates a list representing a row of random data for each column\n",
    "#    BP: Random integer between 100 and 999\n",
    "#    CL# and SERV#: Random strings with numbers\n",
    "#    SVST: Random date in the last decade\n",
    "#    MEM#: Random member number\n",
    "#    AGE: Random integer between 18 and 90\n",
    "#    GENDER: Randomly selects 'M' or 'F'\n",
    "#    DIAG_DESC and COMP_DESCRIPTION: Random short sentences\n",
    "#    BILLED, PALLOW, DED, COPAY, COINS: Random floating-point numbers representing financial data"
   ]
  },
  {
   "cell_type": "code",
   "execution_count": 211,
   "id": "6fa0aaef-3af6-4333-a550-269009daab9c",
   "metadata": {},
   "outputs": [],
   "source": [
    "# Generate and add random data for 100 rows\n",
    "for _ in range(100):\n",
    "    ws.append(generate_random_row())"
   ]
  },
  {
   "cell_type": "code",
   "execution_count": 213,
   "id": "6be49b4c-6988-404d-8c3c-fe5b53663fc1",
   "metadata": {},
   "outputs": [],
   "source": [
    "# Saves the excel file for review\n",
    "wb.save('medical billing data2.xlsx')"
   ]
  },
  {
   "cell_type": "code",
   "execution_count": null,
   "id": "eb2cb5f7-d347-4091-9f42-5d9e0f58aa7a",
   "metadata": {},
   "outputs": [],
   "source": []
  },
  {
   "cell_type": "code",
   "execution_count": null,
   "id": "c59a88f7-2605-4099-9767-70ad76f26d2f",
   "metadata": {},
   "outputs": [],
   "source": []
  }
 ],
 "metadata": {
  "kernelspec": {
   "display_name": "Python 3 (ipykernel)",
   "language": "python",
   "name": "python3"
  },
  "language_info": {
   "codemirror_mode": {
    "name": "ipython",
    "version": 3
   },
   "file_extension": ".py",
   "mimetype": "text/x-python",
   "name": "python",
   "nbconvert_exporter": "python",
   "pygments_lexer": "ipython3",
   "version": "3.11.7"
  }
 },
 "nbformat": 4,
 "nbformat_minor": 5
}
