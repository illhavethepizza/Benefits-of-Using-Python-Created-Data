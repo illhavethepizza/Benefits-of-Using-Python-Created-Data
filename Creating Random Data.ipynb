{
 "cells": [
  {
   "cell_type": "code",
   "execution_count": 42,
   "id": "7b88125d-255c-48e1-ac6e-e08cbcb9cbb5",
   "metadata": {},
   "outputs": [],
   "source": [
    "# CREATING RANDOM SAMPLE DATASET USING NOTHING BUT PYTHON"
   ]
  },
  {
   "cell_type": "code",
   "execution_count": 44,
   "id": "9ae89b4f-eaf1-49ff-b05e-4e8ff192e683",
   "metadata": {},
   "outputs": [],
   "source": [
    "from openpyxl import Workbook"
   ]
  },
  {
   "cell_type": "code",
   "execution_count": 46,
   "id": "9b5f8f12-819d-4116-a2b4-8fca011e52ae",
   "metadata": {},
   "outputs": [],
   "source": [
    "# Creates a new workbook and select the active worksheet\n",
    "wb = Workbook()\n",
    "ws = wb.active"
   ]
  },
  {
   "cell_type": "code",
   "execution_count": 48,
   "id": "eaf44552-d07b-41c5-8e70-b5b64e6f71fd",
   "metadata": {},
   "outputs": [],
   "source": [
    "# Creates column names\n",
    "columns = ['BP', 'CL#', 'SERV#', 'SVST', 'MEM#', 'AGE', 'GENDER', \n",
    "           'DIAG_DESC', 'COMP_DESCRIPTION', 'BILLED', 'PALLOW', \n",
    "           'DED', 'COPAY', 'COINS']"
   ]
  },
  {
   "cell_type": "code",
   "execution_count": 50,
   "id": "2b785489-5c2f-4ec1-a1a7-3c13216414d4",
   "metadata": {},
   "outputs": [],
   "source": [
    "# Add the column names to the first row\n",
    "ws.append(columns)"
   ]
  },
  {
   "cell_type": "code",
   "execution_count": 52,
   "id": "6be49b4c-6988-404d-8c3c-fe5b53663fc1",
   "metadata": {},
   "outputs": [],
   "source": [
    "# Saves the excel file for review\n",
    "wb.save('medical_billing_data1.csv')"
   ]
  },
  {
   "cell_type": "code",
   "execution_count": null,
   "id": "eb2cb5f7-d347-4091-9f42-5d9e0f58aa7a",
   "metadata": {},
   "outputs": [],
   "source": []
  }
 ],
 "metadata": {
  "kernelspec": {
   "display_name": "Python 3 (ipykernel)",
   "language": "python",
   "name": "python3"
  },
  "language_info": {
   "codemirror_mode": {
    "name": "ipython",
    "version": 3
   },
   "file_extension": ".py",
   "mimetype": "text/x-python",
   "name": "python",
   "nbconvert_exporter": "python",
   "pygments_lexer": "ipython3",
   "version": "3.11.7"
  }
 },
 "nbformat": 4,
 "nbformat_minor": 5
}
